{
 "cells": [
  {
   "cell_type": "code",
   "execution_count": 2,
   "id": "2a09a82a",
   "metadata": {},
   "outputs": [
    {
     "name": "stdout",
     "output_type": "stream",
     "text": [
      "[10, 20, 55]\n"
     ]
    }
   ],
   "source": [
    "# to print only those num is divisible by 5\n",
    "num=[10,20,33,46,55]\n",
    "new_num=[]\n",
    "for num1 in num:\n",
    "    if (num1 % 5 == 0):\n",
    "        new_num.append(num1)\n",
    "print(new_num)\n"
   ]
  },
  {
   "cell_type": "code",
   "execution_count": 2,
   "id": "bf22b713",
   "metadata": {},
   "outputs": [
    {
     "name": "stdout",
     "output_type": "stream",
     "text": [
      "[70, 30, 40, 10]\n"
     ]
    }
   ],
   "source": [
    "#reverse a list using for loop\n",
    "list=[10,40,30,70]\n",
    "rev_list=[]\n",
    "for i in range(4):   \n",
    "    rev_list.append(list[4-i-1])\n",
    "print(rev_list)"
   ]
  },
  {
   "cell_type": "code",
   "execution_count": 4,
   "id": "0aa678a7",
   "metadata": {},
   "outputs": [
    {
     "name": "stdout",
     "output_type": "stream",
     "text": [
      "*\n",
      "\n",
      "**\n",
      "\n",
      "***\n",
      "\n",
      "****\n",
      "\n"
     ]
    }
   ],
   "source": [
    "for i in range(4):\n",
    "    for j in range(i+1):\n",
    "        print(\"*\",end='')\n",
    "    print(\"\\n\")\n"
   ]
  },
  {
   "cell_type": "code",
   "execution_count": 4,
   "id": "6861793f",
   "metadata": {},
   "outputs": [
    {
     "name": "stdout",
     "output_type": "stream",
     "text": [
      "*\n",
      "\n",
      "**\n",
      "\n",
      "***\n",
      "\n",
      "****\n",
      "\n",
      "*****\n",
      "\n",
      "****\n",
      "\n",
      "***\n",
      "\n",
      "**\n",
      "\n",
      "*\n",
      "\n",
      "\n",
      "\n"
     ]
    }
   ],
   "source": [
    "for i in range(5):\n",
    "    for j in range(i+1):\n",
    "        print(\"*\",end='')\n",
    "    print(\"\\n\")\n",
    "for i in range(5):\n",
    "    for j in range(5-i-1):\n",
    "        print(\"*\",end='')\n",
    "    print(\"\\n\")\n"
   ]
  },
  {
   "cell_type": "code",
   "execution_count": 1,
   "id": "0817614c",
   "metadata": {},
   "outputs": [
    {
     "name": "stdout",
     "output_type": "stream",
     "text": [
      "[10, 20, 66, 110]\n"
     ]
    }
   ],
   "source": [
    "#multiply each element of list by 2 and add it into a new list\n",
    "list2=[5,10,33,55]\n",
    "num_list=[]\n",
    "for num in list2:\n",
    "    num=num*2\n",
    "    num_list.append(num)\n",
    "print(num_list)\n"
   ]
  },
  {
   "cell_type": "code",
   "execution_count": null,
   "id": "4d204593",
   "metadata": {},
   "outputs": [],
   "source": []
  }
 ],
 "metadata": {
  "kernelspec": {
   "display_name": "Python 3 (ipykernel)",
   "language": "python",
   "name": "python3"
  },
  "language_info": {
   "codemirror_mode": {
    "name": "ipython",
    "version": 3
   },
   "file_extension": ".py",
   "mimetype": "text/x-python",
   "name": "python",
   "nbconvert_exporter": "python",
   "pygments_lexer": "ipython3",
   "version": "3.10.9"
  }
 },
 "nbformat": 4,
 "nbformat_minor": 5
}
