{
  "nbformat": 4,
  "nbformat_minor": 0,
  "metadata": {
    "colab": {
      "provenance": [],
      "authorship_tag": "ABX9TyMb++cHRnBGKVWYwPM92kf8",
      "include_colab_link": true
    },
    "kernelspec": {
      "name": "python3",
      "display_name": "Python 3"
    },
    "language_info": {
      "name": "python"
    }
  },
  "cells": [
    {
      "cell_type": "markdown",
      "metadata": {
        "id": "view-in-github",
        "colab_type": "text"
      },
      "source": [
        "<a href=\"https://colab.research.google.com/github/Jeniba29/Jeniba/blob/main/Assignment1.ipynb\" target=\"_parent\"><img src=\"https://colab.research.google.com/assets/colab-badge.svg\" alt=\"Open In Colab\"/></a>"
      ]
    },
    {
      "cell_type": "markdown",
      "source": [
        "Program to accept the details of a student like name,roll number and mark and display it"
      ],
      "metadata": {
        "id": "w3JCqHcdsV5T"
      }
    },
    {
      "cell_type": "code",
      "source": [
        "Name=input(\"Enter the name:\")# Enter the name of the student#\n",
        "Roll_No=input(\"Enter the roll number:\")# Enter the roll no of the student#\n",
        "Mark=input(\"Enter the mark:\")# Enter the mark of the student#\n",
        "print(\"Name:\",Name)\n",
        "print(\"Roll No:\",Roll_No)\n",
        "print(\"Mark:\",Mark)"
      ],
      "metadata": {
        "colab": {
          "base_uri": "https://localhost:8080/"
        },
        "id": "yjTS3xecsloU",
        "outputId": "fb6d234f-c789-4718-ec31-1d862a5837d5"
      },
      "execution_count": null,
      "outputs": [
        {
          "output_type": "stream",
          "name": "stdout",
          "text": [
            "Enter the name:Anisha\n",
            "Enter the roll number:21\n",
            "Enter the mark:78\n",
            "Name: Anisha\n",
            "Roll No: 21\n",
            "Mark: 78\n"
          ]
        }
      ]
    },
    {
      "cell_type": "markdown",
      "source": [
        "Program to convert temperatures to and from celsius Fahrenheit"
      ],
      "metadata": {
        "id": "wqJolQj-tUFV"
      }
    },
    {
      "cell_type": "code",
      "source": [
        "f=int(input(\"Temperature in fahrenheit=\"))#Enter the temperature in fahrenheit#\n",
        "C=5/9*(f-32)\n",
        "print(\"Temperature in celsius=\",C)"
      ],
      "metadata": {
        "colab": {
          "base_uri": "https://localhost:8080/"
        },
        "id": "TCj6wFWquARQ",
        "outputId": "bf1b08cb-f043-4dc1-a7c9-cb6a743ca136"
      },
      "execution_count": null,
      "outputs": [
        {
          "output_type": "stream",
          "name": "stdout",
          "text": [
            "Temperature in fahrenheit=41\n",
            "Temperature in celsius= 5.0\n"
          ]
        }
      ]
    },
    {
      "cell_type": "markdown",
      "source": [
        "Program to accept two numbers from the user and display its product"
      ],
      "metadata": {
        "id": "M3yaho_5vHij"
      }
    },
    {
      "cell_type": "code",
      "source": [
        "a=int(input(\"Enter a number:\"))#Enter a number#\n",
        "b=int(input(\"Enter another number:\"))#Enter another number from a user#\n",
        "c=a*b\n",
        "print(\"The product of given number is:\",c)\n"
      ],
      "metadata": {
        "colab": {
          "base_uri": "https://localhost:8080/"
        },
        "id": "YIobeLhOvU53",
        "outputId": "e211598b-bb67-4c65-b94f-f743b7011336"
      },
      "execution_count": null,
      "outputs": [
        {
          "output_type": "stream",
          "name": "stdout",
          "text": [
            "Enter a number:10\n",
            "Enter another number:3\n",
            "The product of given number is: 30\n"
          ]
        }
      ]
    },
    {
      "cell_type": "markdown",
      "source": [
        "Program to accept a string \"Learn Python by Developing a Website\" and display the string like \"Learn**Python**by Developing a**Website**\"\n"
      ],
      "metadata": {
        "id": "Lt96v7HEwDHt"
      }
    },
    {
      "cell_type": "code",
      "source": [
        "print(\"\\\"Learn**Python**by Developing a**Website**\\\"\")"
      ],
      "metadata": {
        "colab": {
          "base_uri": "https://localhost:8080/"
        },
        "id": "kHiyusAyws1x",
        "outputId": "0fc68db1-6acb-4104-c3d8-7354c68033ae"
      },
      "execution_count": null,
      "outputs": [
        {
          "output_type": "stream",
          "name": "stdout",
          "text": [
            "\"Learn**Python**by Developing a**Website**\"\n"
          ]
        }
      ]
    },
    {
      "cell_type": "markdown",
      "source": [
        "Program to accept the radius of a circle and display its area"
      ],
      "metadata": {
        "id": "xDxI6IYsxVKp"
      }
    },
    {
      "cell_type": "code",
      "source": [
        "import math\n",
        "radius=int(input(\"Enter the radius of circle:\"))#Enter the radius of the circle#\n",
        "area=math.pi*radius**2\n",
        "print(\"The area of circle is:\",area)"
      ],
      "metadata": {
        "colab": {
          "base_uri": "https://localhost:8080/"
        },
        "id": "Sxs2rpOBxvMH",
        "outputId": "6e405d0a-857d-40f8-faef-c19bd2cb4c8c"
      },
      "execution_count": null,
      "outputs": [
        {
          "output_type": "stream",
          "name": "stdout",
          "text": [
            "Enter the radius of circle:4\n",
            "The area of circle is: 50.26548245743669\n"
          ]
        }
      ]
    },
    {
      "cell_type": "markdown",
      "source": [
        "Program to insert a number to any position in a list"
      ],
      "metadata": {
        "id": "JkmNsp5OyVql"
      }
    },
    {
      "cell_type": "code",
      "source": [
        "list=[22,44,55,77]\n",
        "list.insert(1,88)\n",
        "list"
      ],
      "metadata": {
        "colab": {
          "base_uri": "https://localhost:8080/"
        },
        "id": "z8f45WHCygoJ",
        "outputId": "69d956f1-3308-467c-dc2f-a54bcebee660"
      },
      "execution_count": null,
      "outputs": [
        {
          "output_type": "execute_result",
          "data": {
            "text/plain": [
              "[22, 88, 44, 55, 77]"
            ]
          },
          "metadata": {},
          "execution_count": 9
        }
      ]
    },
    {
      "cell_type": "markdown",
      "source": [],
      "metadata": {
        "id": "b8PeXHIby0-N"
      }
    },
    {
      "cell_type": "markdown",
      "source": [
        "Program to rename a key city to a location"
      ],
      "metadata": {
        "id": "Wc-xETC1y9cf"
      }
    },
    {
      "cell_type": "code",
      "source": [
        "sample_dict={\"name\":\"John\",\"age\":5,\"salary\":8000,\"city\":\"New york\"}\n",
        "sample_dict[\"location\"]=sample_dict.pop(\"city\")\n",
        "sample_dict"
      ],
      "metadata": {
        "colab": {
          "base_uri": "https://localhost:8080/"
        },
        "id": "66aSJB5VzNRF",
        "outputId": "70619207-abac-4193-d545-6f6faf5134cc"
      },
      "execution_count": null,
      "outputs": [
        {
          "output_type": "execute_result",
          "data": {
            "text/plain": [
              "{'name': 'John', 'age': 5, 'salary': 8000, 'location': 'New york'}"
            ]
          },
          "metadata": {},
          "execution_count": 10
        }
      ]
    },
    {
      "cell_type": "markdown",
      "source": [
        "Program to change Brad's salary to 8500"
      ],
      "metadata": {
        "id": "qv1hVCfHzXX5"
      }
    },
    {
      "cell_type": "code",
      "source": [
        "sample_dict={'emp1':{'name':'john','salary':7500},'emp2':{'name':'Emma','salary':8000},'emp3':{'name':'Brad','salary':500}}\n",
        "sample_dict['emp3']['salary']=8500\n",
        "sample_dict"
      ],
      "metadata": {
        "colab": {
          "base_uri": "https://localhost:8080/"
        },
        "id": "HCpkSM4szqmk",
        "outputId": "109daf11-4b05-4d8e-f1e0-138a5bdc032d"
      },
      "execution_count": null,
      "outputs": [
        {
          "output_type": "execute_result",
          "data": {
            "text/plain": [
              "{'emp1': {'name': 'john', 'salary': 7500},\n",
              " 'emp2': {'name': 'Emma', 'salary': 8000},\n",
              " 'emp3': {'name': 'Brad', 'salary': 8500}}"
            ]
          },
          "metadata": {},
          "execution_count": 11
        }
      ]
    },
    {
      "cell_type": "markdown",
      "source": [
        "Program to copy elements 43 and 54 from the following tuple into a new tuple"
      ],
      "metadata": {
        "id": "zOmLI0X-z22z"
      }
    },
    {
      "cell_type": "code",
      "source": [
        "tuple1=(10,20,43,54,56,68)\n",
        "tup=tuple1[2:4]\n",
        "tup"
      ],
      "metadata": {
        "id": "Lzyd1mAm0Gft"
      },
      "execution_count": null,
      "outputs": []
    },
    {
      "cell_type": "markdown",
      "source": [
        "Counts the number of occurrences of item 50 from a tuple"
      ],
      "metadata": {
        "id": "3kUdNt4q0MSK"
      }
    },
    {
      "cell_type": "code",
      "source": [
        "tuple1=(50,10,60,70,50,83,567,50,81)\n",
        "tuple1.count(50)"
      ],
      "metadata": {
        "colab": {
          "base_uri": "https://localhost:8080/"
        },
        "id": "pyfefzxL0cFp",
        "outputId": "b4897603-5342-466d-818c-509ffda42c21"
      },
      "execution_count": null,
      "outputs": [
        {
          "output_type": "execute_result",
          "data": {
            "text/plain": [
              "3"
            ]
          },
          "metadata": {},
          "execution_count": 12
        }
      ]
    }
  ]
}