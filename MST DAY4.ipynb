{
 "cells": [
  {
   "cell_type": "code",
   "execution_count": 1,
   "id": "5736b189",
   "metadata": {},
   "outputs": [
    {
     "data": {
      "text/plain": [
       "True"
      ]
     },
     "execution_count": 1,
     "metadata": {},
     "output_type": "execute_result"
    }
   ],
   "source": [
    "#in and not in\n",
    "l=[5,6,7,8]\n",
    "5 in l"
   ]
  },
  {
   "cell_type": "code",
   "execution_count": 4,
   "id": "efb5bf30",
   "metadata": {},
   "outputs": [
    {
     "data": {
      "text/plain": [
       "False"
      ]
     },
     "execution_count": 4,
     "metadata": {},
     "output_type": "execute_result"
    }
   ],
   "source": [
    "s='hello'\n",
    "'h'not in s"
   ]
  },
  {
   "cell_type": "markdown",
   "id": "b0614578",
   "metadata": {},
   "source": [
    "# for loop"
   ]
  },
  {
   "cell_type": "code",
   "execution_count": 6,
   "id": "8e1b3b71",
   "metadata": {},
   "outputs": [
    {
     "name": "stdout",
     "output_type": "stream",
     "text": [
      "hi cat\n",
      "hi dog\n",
      "hi cow\n"
     ]
    }
   ],
   "source": [
    "animals=['cat','dog','cow']\n",
    "for animal in animals:\n",
    "    print(\"hi \"+animal)"
   ]
  },
  {
   "cell_type": "code",
   "execution_count": 7,
   "id": "78b2fbcd",
   "metadata": {},
   "outputs": [
    {
     "name": "stdout",
     "output_type": "stream",
     "text": [
      "[0, 1, 2]\n"
     ]
    }
   ],
   "source": [
    "l=list(range(3))\n",
    "print(l)"
   ]
  },
  {
   "cell_type": "code",
   "execution_count": 8,
   "id": "48a4dae6",
   "metadata": {},
   "outputs": [
    {
     "data": {
      "text/plain": [
       "[0, 1, 2, 3, 4, 5, 6, 7, 8, 9, 10, 11, 12, 13, 14, 15, 16, 17, 18, 19]"
      ]
     },
     "execution_count": 8,
     "metadata": {},
     "output_type": "execute_result"
    }
   ],
   "source": [
    "l=list(range(0,20))\n",
    "l\n",
    "\n"
   ]
  },
  {
   "cell_type": "code",
   "execution_count": 9,
   "id": "e368aa43",
   "metadata": {},
   "outputs": [
    {
     "data": {
      "text/plain": [
       "[0, 2, 4, 6, 8, 10, 12, 14, 16, 18]"
      ]
     },
     "execution_count": 9,
     "metadata": {},
     "output_type": "execute_result"
    }
   ],
   "source": [
    "l=list(range(0,20,2))\n",
    "l\n"
   ]
  },
  {
   "cell_type": "code",
   "execution_count": 10,
   "id": "b8294e86",
   "metadata": {},
   "outputs": [
    {
     "data": {
      "text/plain": [
       "[20, 19, 18, 17, 16, 15, 14, 13, 12, 11, 10, 9, 8, 7, 6, 5, 4, 3]"
      ]
     },
     "execution_count": 10,
     "metadata": {},
     "output_type": "execute_result"
    }
   ],
   "source": [
    "l=list(range(20,2,-1))\n",
    "l\n"
   ]
  },
  {
   "cell_type": "code",
   "execution_count": 12,
   "id": "035d6638",
   "metadata": {},
   "outputs": [
    {
     "name": "stdout",
     "output_type": "stream",
     "text": [
      "1\n",
      "3\n",
      "5\n",
      "7\n",
      "9\n"
     ]
    }
   ],
   "source": [
    "#to print all odd num til 10\n",
    "for i in range(1,10,2):\n",
    "    print(i)"
   ]
  },
  {
   "cell_type": "code",
   "execution_count": 13,
   "id": "0ecebfd4",
   "metadata": {},
   "outputs": [
    {
     "name": "stdout",
     "output_type": "stream",
     "text": [
      "10\n",
      "9\n",
      "8\n",
      "7\n",
      "6\n",
      "5\n",
      "4\n",
      "3\n",
      "2\n",
      "1\n"
     ]
    }
   ],
   "source": [
    "# to print all nos till 10 in reverse order\n",
    "for i in range(10,0,-1):\n",
    "    print(i)"
   ]
  },
  {
   "cell_type": "code",
   "execution_count": 14,
   "id": "8cc7ff83",
   "metadata": {},
   "outputs": [
    {
     "name": "stdout",
     "output_type": "stream",
     "text": [
      "1\n",
      "4\n",
      "9\n",
      "16\n",
      "25\n",
      "36\n",
      "49\n",
      "64\n",
      "81\n"
     ]
    }
   ],
   "source": [
    "#to print square of all nos till 10 nos\n",
    "for i in range(1,10):\n",
    "    print(i*i)"
   ]
  },
  {
   "cell_type": "code",
   "execution_count": 17,
   "id": "5f37f52c",
   "metadata": {},
   "outputs": [
    {
     "name": "stdout",
     "output_type": "stream",
     "text": [
      "3\n",
      "6\n",
      "9\n",
      "12\n",
      "15\n",
      "18\n",
      "21\n",
      "24\n",
      "27\n",
      "30\n",
      "33\n",
      "36\n",
      "39\n",
      "42\n",
      "45\n",
      "48\n",
      "51\n"
     ]
    }
   ],
   "source": [
    "#to print all nos divisible by 3 from 1 to 51\n",
    "for i in range(1,52):\n",
    "    if(i%3==0):\n",
    "        print(i)"
   ]
  },
  {
   "cell_type": "code",
   "execution_count": 21,
   "id": "64598d34",
   "metadata": {},
   "outputs": [
    {
     "name": "stdout",
     "output_type": "stream",
     "text": [
      "Enter the limit5\n",
      "1\n",
      "2\n",
      "3\n",
      "4\n",
      "5\n",
      "sum is  15\n"
     ]
    }
   ],
   "source": [
    "#read the list of nos from user & its sum\n",
    "l=int(input(\"Enter the limit\"))\n",
    "sum_n=0\n",
    "for i in range(l):\n",
    "    num=int(input())\n",
    "    sum_n=sum_n+num\n",
    "print(\"sum is \",sum_n)"
   ]
  },
  {
   "cell_type": "code",
   "execution_count": 22,
   "id": "bca8b631",
   "metadata": {},
   "outputs": [
    {
     "name": "stdout",
     "output_type": "stream",
     "text": [
      "Enter the limit5\n",
      "1\n",
      "2\n",
      "3\n",
      "4\n",
      "5\n",
      "sum is  15\n",
      "average is  3.0\n"
     ]
    }
   ],
   "source": [
    "#read the list of nos from user & its sum and average\n",
    "l=int(input(\"Enter the limit\"))\n",
    "sum_n=0\n",
    "for i in range(l):\n",
    "    num=int(input())\n",
    "    sum_n=sum_n+num\n",
    "print(\"sum is \",sum_n)\n",
    "print(\"average is \",sum_n/l)"
   ]
  },
  {
   "cell_type": "code",
   "execution_count": 24,
   "id": "5ccd90e7",
   "metadata": {},
   "outputs": [
    {
     "name": "stdout",
     "output_type": "stream",
     "text": [
      "Enter the limit4\n",
      "2\n",
      "3\n",
      "4\n",
      "1\n",
      "[2, 3, 4, 1]\n"
     ]
    }
   ],
   "source": [
    "l=int(input(\"Enter the limit\"))\n",
    "num_list=[]\n",
    "for i in range(l):\n",
    "    num=int(input())\n",
    "    num_list.append(num)\n",
    "print(num_list)"
   ]
  },
  {
   "cell_type": "code",
   "execution_count": 27,
   "id": "4a0cb6de",
   "metadata": {},
   "outputs": [
    {
     "name": "stdout",
     "output_type": "stream",
     "text": [
      "sum is  10\n"
     ]
    }
   ],
   "source": [
    "num_list=[2,3,4,1]\n",
    "sum_list=0\n",
    "for val in num_list:\n",
    "    sum_list=sum_list+val\n",
    "print(\"sum is \",sum_list)"
   ]
  },
  {
   "cell_type": "code",
   "execution_count": 28,
   "id": "ea7c577b",
   "metadata": {},
   "outputs": [
    {
     "name": "stdout",
     "output_type": "stream",
     "text": [
      "apple mango grapes "
     ]
    }
   ],
   "source": [
    "fruits=['apple','mango','grapes']\n",
    "for fruit in fruits:\n",
    "    print(fruit,end=' ')"
   ]
  },
  {
   "cell_type": "code",
   "execution_count": 34,
   "id": "422161e0",
   "metadata": {},
   "outputs": [
    {
     "name": "stdout",
     "output_type": "stream",
     "text": [
      "I am learning python"
     ]
    }
   ],
   "source": [
    "s=\"I am learning python\"\n",
    "for char in s:\n",
    "    print(char,end='')"
   ]
  },
  {
   "cell_type": "markdown",
   "id": "780a011f",
   "metadata": {},
   "source": [
    "# while loop"
   ]
  },
  {
   "cell_type": "code",
   "execution_count": 37,
   "id": "473855d2",
   "metadata": {},
   "outputs": [
    {
     "name": "stdout",
     "output_type": "stream",
     "text": [
      "1\n",
      "3\n",
      "5\n",
      "7\n",
      "9\n",
      "out of loop\n"
     ]
    }
   ],
   "source": [
    "a=1\n",
    "while a<10:\n",
    "    print(a)\n",
    "    a+=2       #a=a+2\n",
    "print(\"out of loop\")"
   ]
  },
  {
   "cell_type": "code",
   "execution_count": 39,
   "id": "5594812e",
   "metadata": {},
   "outputs": [
    {
     "name": "stdout",
     "output_type": "stream",
     "text": [
      "Sum is 5050\n"
     ]
    }
   ],
   "source": [
    "#sum of first 100 nos\n",
    "start=1\n",
    "sum_100=0\n",
    "while start<=100:\n",
    "    sum_100=sum_100+start\n",
    "    start +=1\n",
    "print(\"Sum is\",sum_100)"
   ]
  },
  {
   "cell_type": "code",
   "execution_count": 41,
   "id": "1ca6aa1c",
   "metadata": {},
   "outputs": [
    {
     "name": "stdout",
     "output_type": "stream",
     "text": [
      "Welcome to ICTAK\n",
      "Enter Quit to stopgud morning\n",
      "Good morning\n",
      "Enter Quit to stop0\n",
      "Plz use another option\n",
      "Enter Quit to stop\n",
      "Enter a valid input\n",
      "Enter Quit to stopis there is a python course\n",
      "plz visit www.ictak.org for more details\n",
      "Enter Quit to stoppython\n",
      "Yes we have python course,plz visit www.ictak.org for more details\n",
      "Enter Quit to stopQuit\n",
      "see you later\n"
     ]
    }
   ],
   "source": [
    "#Basic interactive pgm\n",
    "print(\"Welcome to ICTAK\")\n",
    "while True:\n",
    "    x=input(\"Enter Quit to stop\")\n",
    "    x=x.lower()\n",
    "    if x=='quit':\n",
    "        print(\"see you later\")\n",
    "        break\n",
    "    y=x.split()\n",
    "    if len(y) == 0:\n",
    "        print(\"Enter a valid input\")\n",
    "    elif 'morning' in y:\n",
    "        print(\"Good morning\")\n",
    "    elif 'course' in y:\n",
    "        print(\"plz visit www.ictak.org for more details\")\n",
    "    elif 'python' in y:\n",
    "        print(\"Yes we have python course,plz visit www.ictak.org for more details\")\n",
    "    else:\n",
    "        print(\"Plz use another option\")\n"
   ]
  },
  {
   "cell_type": "markdown",
   "id": "d2fbdf78",
   "metadata": {},
   "source": [
    "# break,continue,pass\n"
   ]
  },
  {
   "cell_type": "code",
   "execution_count": 43,
   "id": "367957ce",
   "metadata": {},
   "outputs": [
    {
     "name": "stdout",
     "output_type": "stream",
     "text": [
      "0\n",
      "1\n",
      "2\n",
      "3\n",
      "4\n",
      "5\n",
      "execution completed\n"
     ]
    }
   ],
   "source": [
    "for i in range(10):\n",
    "    print(i)\n",
    "    if i==5:\n",
    "        break\n",
    "print(\"execution completed\")\n"
   ]
  },
  {
   "cell_type": "code",
   "execution_count": 50,
   "id": "e64115d0",
   "metadata": {},
   "outputs": [
    {
     "name": "stdout",
     "output_type": "stream",
     "text": [
      "0\n",
      "1\n",
      "2\n",
      "3\n",
      "4\n",
      "6\n",
      "7\n",
      "8\n",
      "9\n",
      "execution completed\n"
     ]
    }
   ],
   "source": [
    "for i in range(10):\n",
    "    if i==5:\n",
    "        continue\n",
    "    print(i)\n",
    "print(\"execution completed\")\n"
   ]
  },
  {
   "cell_type": "code",
   "execution_count": 52,
   "id": "c65711c7",
   "metadata": {},
   "outputs": [
    {
     "name": "stdout",
     "output_type": "stream",
     "text": [
      "Execution completed\n"
     ]
    }
   ],
   "source": [
    "for i in range(10):\n",
    "    pass\n",
    "print(\"Execution completed\")"
   ]
  },
  {
   "cell_type": "code",
   "execution_count": 59,
   "id": "b6db589d",
   "metadata": {},
   "outputs": [
    {
     "name": "stdout",
     "output_type": "stream",
     "text": [
      "python"
     ]
    }
   ],
   "source": [
    "p= \"pyithon\"\n",
    "for letter in p:\n",
    "    if letter == 'i':\n",
    "        continue\n",
    "    print(letter,end='')\n",
    "    "
   ]
  },
  {
   "cell_type": "code",
   "execution_count": 76,
   "id": "8dd99e33",
   "metadata": {},
   "outputs": [
    {
     "name": "stdout",
     "output_type": "stream",
     "text": [
      "Enter the no5\n",
      "Number is Prime\n"
     ]
    }
   ],
   "source": [
    "#to check whether the gn no is prime no or not\n",
    "n=int(input(\"Enter the no\"))\n",
    "if n>1:\n",
    "    for i in range(2,n):\n",
    "        if n%i==0:\n",
    "            print(\"Number is not prime\")\n",
    "            break\n",
    "    else:\n",
    "        print(\"Number is Prime\")\n",
    "else:\n",
    "    print(\"Number is not positive\")\n"
   ]
  },
  {
   "cell_type": "code",
   "execution_count": 78,
   "id": "cd5f83fe",
   "metadata": {},
   "outputs": [
    {
     "name": "stdout",
     "output_type": "stream",
     "text": [
      "5* 1 = 5\n",
      "5* 2 = 10\n",
      "5* 3 = 15\n",
      "5* 4 = 20\n",
      "5* 5 = 25\n",
      "5* 6 = 30\n",
      "5* 7 = 35\n",
      "5* 8 = 40\n",
      "5* 9 = 45\n",
      "5* 10 = 50\n"
     ]
    }
   ],
   "source": [
    "#print multiplication table of 5\n",
    "for i in range(1,11):\n",
    "    print('5*',i,'=',5*i)\n",
    "    "
   ]
  },
  {
   "cell_type": "code",
   "execution_count": 79,
   "id": "46642146",
   "metadata": {},
   "outputs": [
    {
     "name": "stdout",
     "output_type": "stream",
     "text": [
      "Multiplication table of 1\n",
      "1 * 1 = 1\n",
      "2 * 1 = 2\n",
      "3 * 1 = 3\n",
      "4 * 1 = 4\n",
      "5 * 1 = 5\n",
      "6 * 1 = 6\n",
      "7 * 1 = 7\n",
      "8 * 1 = 8\n",
      "9 * 1 = 9\n",
      "10 * 1 = 10\n",
      "Multiplication table of 2\n",
      "1 * 2 = 2\n",
      "2 * 2 = 4\n",
      "3 * 2 = 6\n",
      "4 * 2 = 8\n",
      "5 * 2 = 10\n",
      "6 * 2 = 12\n",
      "7 * 2 = 14\n",
      "8 * 2 = 16\n",
      "9 * 2 = 18\n",
      "10 * 2 = 20\n",
      "Multiplication table of 3\n",
      "1 * 3 = 3\n",
      "2 * 3 = 6\n",
      "3 * 3 = 9\n",
      "4 * 3 = 12\n",
      "5 * 3 = 15\n",
      "6 * 3 = 18\n",
      "7 * 3 = 21\n",
      "8 * 3 = 24\n",
      "9 * 3 = 27\n",
      "10 * 3 = 30\n",
      "Multiplication table of 4\n",
      "1 * 4 = 4\n",
      "2 * 4 = 8\n",
      "3 * 4 = 12\n",
      "4 * 4 = 16\n",
      "5 * 4 = 20\n",
      "6 * 4 = 24\n",
      "7 * 4 = 28\n",
      "8 * 4 = 32\n",
      "9 * 4 = 36\n",
      "10 * 4 = 40\n",
      "Multiplication table of 5\n",
      "1 * 5 = 5\n",
      "2 * 5 = 10\n",
      "3 * 5 = 15\n",
      "4 * 5 = 20\n",
      "5 * 5 = 25\n",
      "6 * 5 = 30\n",
      "7 * 5 = 35\n",
      "8 * 5 = 40\n",
      "9 * 5 = 45\n",
      "10 * 5 = 50\n"
     ]
    }
   ],
   "source": [
    "#print multiplication table of all numbers upto 5\n",
    "for i in range(1,6):\n",
    "    print(\"Multiplication table of\",i)\n",
    "    for j in range(1,11):\n",
    "        print(j,'*',i,'=',j*i)"
   ]
  },
  {
   "cell_type": "code",
   "execution_count": null,
   "id": "a6cdd78f",
   "metadata": {},
   "outputs": [],
   "source": []
  }
 ],
 "metadata": {
  "kernelspec": {
   "display_name": "Python 3 (ipykernel)",
   "language": "python",
   "name": "python3"
  },
  "language_info": {
   "codemirror_mode": {
    "name": "ipython",
    "version": 3
   },
   "file_extension": ".py",
   "mimetype": "text/x-python",
   "name": "python",
   "nbconvert_exporter": "python",
   "pygments_lexer": "ipython3",
   "version": "3.10.9"
  }
 },
 "nbformat": 4,
 "nbformat_minor": 5
}
