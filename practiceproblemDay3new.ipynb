{
 "cells": [
  {
   "cell_type": "code",
   "execution_count": 1,
   "id": "8aa4bba3",
   "metadata": {},
   "outputs": [
    {
     "name": "stdout",
     "output_type": "stream",
     "text": [
      "Enter the limit:5\n",
      "Enter the score:99\n",
      "Enter the score:77\n",
      "Enter the score:88\n",
      "Enter the score:100\n",
      "Enter the score:33\n",
      "[99, 77, 88, 100, 33]\n",
      "Runner up: 99\n"
     ]
    }
   ],
   "source": [
    "x=int(input(\"Enter the limit:\"))\n",
    "list=[]\n",
    "for i in range(x):\n",
    "    y=int(input(\"Enter the score:\"))\n",
    "    list.append(y)\n",
    "print(list)\n",
    "list.sort()\n",
    "list1=list\n",
    "list2=list1[::-1]\n",
    "print(\"Runner up:\",list2[1])\n"
   ]
  },
  {
   "cell_type": "code",
   "execution_count": 2,
   "id": "d3955bf7",
   "metadata": {},
   "outputs": [
    {
     "name": "stdout",
     "output_type": "stream",
     "text": [
      "Enter the name:ram\n",
      "The current dictionary is: {'john': [25, 32, 43], 'peter': [87, 55, 96], 'ram': [88, 77, 99], 'Meena': [63, 79, 85]}\n"
     ]
    }
   ],
   "source": [
    "D={'john':[25,32,43],'peter':[87,55,96],'ram':[58,55,43],'Meena':[63,79,85]}\n",
    "name=input(\"Enter the name:\")\n",
    "if name in D:\n",
    "    D[name]=[88,77,99]\n",
    "    print(\"The current dictionary is:\",D)\n",
    "else:\n",
    "    print('Name not found')"
   ]
  },
  {
   "cell_type": "code",
   "execution_count": 3,
   "id": "6aeaa7c2",
   "metadata": {},
   "outputs": [
    {
     "name": "stdout",
     "output_type": "stream",
     "text": [
      "Enter the age of the user:60\n",
      "Enter the gender of the user(male or female):male\n",
      "The ticket price is Rs.50\n"
     ]
    }
   ],
   "source": [
    "age=int(input(\"Enter the age of the user:\"))\n",
    "gender=input(\"Enter the gender of the user(male or female):\")\n",
    "gender=gender.lower()\n",
    "if(age<5):\n",
    "    print(\"The ticket price is free\")\n",
    "elif(age>60):\n",
    "        print(\"The ticket price is free\")\n",
    "elif(age>=5)and(age<=12):\n",
    "    if(gender=='female'):\n",
    "        print(\"The ticket price is Rs.5\")\n",
    "    else:\n",
    "        print(\"The ticket price is Rs.10\")\n",
    "elif(age>12):\n",
    "    if(gender=='female'):\n",
    "        print(\"The ticket price is Rs.25\")\n",
    "    else:\n",
    "        print(\"The ticket price is Rs.50\")\n"
   ]
  }
 ],
 "metadata": {
  "kernelspec": {
   "display_name": "Python 3 (ipykernel)",
   "language": "python",
   "name": "python3"
  },
  "language_info": {
   "codemirror_mode": {
    "name": "ipython",
    "version": 3
   },
   "file_extension": ".py",
   "mimetype": "text/x-python",
   "name": "python",
   "nbconvert_exporter": "python",
   "pygments_lexer": "ipython3",
   "version": "3.10.9"
  }
 },
 "nbformat": 4,
 "nbformat_minor": 5
}
