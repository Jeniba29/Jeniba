{
 "cells": [
  {
   "cell_type": "code",
   "execution_count": 6,
   "id": "3f6ba4e3",
   "metadata": {},
   "outputs": [
    {
     "name": "stdout",
     "output_type": "stream",
     "text": [
      "Enter a number between 1 and 10:7\n",
      "Too high! Try again\n",
      "Enter a number between 1 and 10:2\n",
      "Too high! Try again\n",
      "Enter a number between 1 and 10:1\n",
      "Congratulations! You guessed the number correctly!\n"
     ]
    }
   ],
   "source": [
    "#Basic Interactive Code\n",
    "import random\n",
    "secretNumber=random.randint(1,10)                                  #number assign as randomly\n",
    "while True:\n",
    "    guess=int(input(\"Enter a number between 1 and 10:\"))\n",
    "    if(guess==secretNumber):\n",
    "        print(\"Congratulations! You guessed the number correctly!\")\n",
    "        break\n",
    "    elif(guess>secretNumber):\n",
    "        print(\"Too high! Try again\")\n",
    "    elif(guess<secretNumber):\n",
    "        print(\"Too low! Try again\")"
   ]
  },
  {
   "cell_type": "code",
   "execution_count": 4,
   "id": "a0225bb8",
   "metadata": {},
   "outputs": [
    {
     "name": "stdout",
     "output_type": "stream",
     "text": [
      "Enter the number:5\n",
      "The factorial of 5 is 120\n"
     ]
    }
   ],
   "source": [
    "# program to find the factorial of a number\n",
    "n = int(input(\"Enter the number:\"))\n",
    "fact=1\n",
    "if n< 0:                            # check if the number is negative\n",
    "    print(\"Sorry, factorial does not exit for negative numbers\")\n",
    "elif n==0:\n",
    "    print(\"The factorial of 0 is 1\")\n",
    "else:\n",
    "    for i in range(1,n+1):\n",
    "        fact*=i\n",
    "    print(\"The factorial of\",n,\"is\",fact)\n"
   ]
  },
  {
   "cell_type": "code",
   "execution_count": 8,
   "id": "06927899",
   "metadata": {},
   "outputs": [
    {
     "name": "stdout",
     "output_type": "stream",
     "text": [
      "Enter the length:50\n",
      "No of photos:7\n",
      "Enter the width of photo:45\n",
      "Enter the height of photo:45\n",
      "UPLOAD ANOTHER\n",
      "Enter the width of photo:23\n",
      "Enter the height of photo:33\n",
      "UPLOAD ANOTHER\n",
      "Enter the width of photo:20\n",
      "Enter the height of photo:55\n",
      "UPLOAD ANOTHER\n",
      "Enter the width of photo:50\n",
      "Enter the height of photo:50\n",
      "ACCEPTED\n",
      "Enter the width of photo:60\n",
      "Enter the height of photo:60\n",
      "ACCEPTED\n",
      "Enter the width of photo:70\n",
      "Enter the height of photo:75\n",
      "CROP IT\n",
      "Enter the width of photo:55\n",
      "Enter the height of photo:55\n",
      "ACCEPTED\n"
     ]
    }
   ],
   "source": [
    "# program to change the profile picture on Facebook\n",
    "l = int(input(\"Enter the length:\"))\n",
    "n = int(input(\"No of photos:\"))                 #read the number of photos to be uploaded\n",
    "i = 0\n",
    "while i < n:\n",
    "    w = int(input(\"Enter the width of photo:\"))    #read the width of the photo\n",
    "    h = int(input(\"Enter the height of photo:\"))   #read the height of the photo\n",
    "    if w < l or h < l:\n",
    "        print('UPLOAD ANOTHER')\n",
    "    else:\n",
    "        if w == h and w >= l and h >= l :\n",
    "            print('ACCEPTED')  \n",
    "        else:\n",
    "            print('CROP IT')\n",
    "    i+=1"
   ]
  }
 ],
 "metadata": {
  "kernelspec": {
   "display_name": "Python 3 (ipykernel)",
   "language": "python",
   "name": "python3"
  },
  "language_info": {
   "codemirror_mode": {
    "name": "ipython",
    "version": 3
   },
   "file_extension": ".py",
   "mimetype": "text/x-python",
   "name": "python",
   "nbconvert_exporter": "python",
   "pygments_lexer": "ipython3",
   "version": "3.10.9"
  }
 },
 "nbformat": 4,
 "nbformat_minor": 5
}
